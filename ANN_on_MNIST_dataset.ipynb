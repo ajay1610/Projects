{
 "cells": [
  {
   "cell_type": "code",
   "execution_count": 1,
   "id": "medieval-surname",
   "metadata": {
    "_cell_guid": "b1076dfc-b9ad-4769-8c92-a6c4dae69d19",
    "_uuid": "8f2839f25d086af736a60e9eeb907d3b93b6e0e5",
    "execution": {
     "iopub.execute_input": "2021-06-19T16:20:32.075462Z",
     "iopub.status.busy": "2021-06-19T16:20:32.074282Z",
     "iopub.status.idle": "2021-06-19T16:20:32.083899Z",
     "shell.execute_reply": "2021-06-19T16:20:32.084469Z",
     "shell.execute_reply.started": "2021-06-19T15:39:52.628296Z"
    },
    "papermill": {
     "duration": 0.027826,
     "end_time": "2021-06-19T16:20:32.084869",
     "exception": false,
     "start_time": "2021-06-19T16:20:32.057043",
     "status": "completed"
    },
    "tags": []
   },
   "outputs": [],
   "source": [
    "## ** HappyMonk Assignment **\n",
    "## * Implementation of ANN on MNIST Datasets * \n",
    "\n",
    "import numpy as np \n",
    "import pandas as pd \n",
    "from matplotlib import pyplot as plt"
   ]
  },
  {
   "cell_type": "code",
   "execution_count": 2,
   "id": "stylish-julian",
   "metadata": {
    "execution": {
     "iopub.execute_input": "2021-06-19T16:20:32.114872Z",
     "iopub.status.busy": "2021-06-19T16:20:32.114229Z",
     "iopub.status.idle": "2021-06-19T16:20:38.453713Z",
     "shell.execute_reply": "2021-06-19T16:20:38.454171Z",
     "shell.execute_reply.started": "2021-06-19T15:39:52.641705Z"
    },
    "papermill": {
     "duration": 6.355884,
     "end_time": "2021-06-19T16:20:38.454376",
     "exception": false,
     "start_time": "2021-06-19T16:20:32.098492",
     "status": "completed"
    },
    "tags": []
   },
   "outputs": [
    {
     "data": {
      "text/html": [
       "<div>\n",
       "<style scoped>\n",
       "    .dataframe tbody tr th:only-of-type {\n",
       "        vertical-align: middle;\n",
       "    }\n",
       "\n",
       "    .dataframe tbody tr th {\n",
       "        vertical-align: top;\n",
       "    }\n",
       "\n",
       "    .dataframe thead th {\n",
       "        text-align: right;\n",
       "    }\n",
       "</style>\n",
       "<table border=\"1\" class=\"dataframe\">\n",
       "  <thead>\n",
       "    <tr style=\"text-align: right;\">\n",
       "      <th></th>\n",
       "      <th>label</th>\n",
       "      <th>1x1</th>\n",
       "      <th>1x2</th>\n",
       "      <th>1x3</th>\n",
       "      <th>1x4</th>\n",
       "      <th>1x5</th>\n",
       "      <th>1x6</th>\n",
       "      <th>1x7</th>\n",
       "      <th>1x8</th>\n",
       "      <th>1x9</th>\n",
       "      <th>...</th>\n",
       "      <th>28x19</th>\n",
       "      <th>28x20</th>\n",
       "      <th>28x21</th>\n",
       "      <th>28x22</th>\n",
       "      <th>28x23</th>\n",
       "      <th>28x24</th>\n",
       "      <th>28x25</th>\n",
       "      <th>28x26</th>\n",
       "      <th>28x27</th>\n",
       "      <th>28x28</th>\n",
       "    </tr>\n",
       "  </thead>\n",
       "  <tbody>\n",
       "    <tr>\n",
       "      <th>0</th>\n",
       "      <td>5</td>\n",
       "      <td>0</td>\n",
       "      <td>0</td>\n",
       "      <td>0</td>\n",
       "      <td>0</td>\n",
       "      <td>0</td>\n",
       "      <td>0</td>\n",
       "      <td>0</td>\n",
       "      <td>0</td>\n",
       "      <td>0</td>\n",
       "      <td>...</td>\n",
       "      <td>0</td>\n",
       "      <td>0</td>\n",
       "      <td>0</td>\n",
       "      <td>0</td>\n",
       "      <td>0</td>\n",
       "      <td>0</td>\n",
       "      <td>0</td>\n",
       "      <td>0</td>\n",
       "      <td>0</td>\n",
       "      <td>0</td>\n",
       "    </tr>\n",
       "    <tr>\n",
       "      <th>1</th>\n",
       "      <td>0</td>\n",
       "      <td>0</td>\n",
       "      <td>0</td>\n",
       "      <td>0</td>\n",
       "      <td>0</td>\n",
       "      <td>0</td>\n",
       "      <td>0</td>\n",
       "      <td>0</td>\n",
       "      <td>0</td>\n",
       "      <td>0</td>\n",
       "      <td>...</td>\n",
       "      <td>0</td>\n",
       "      <td>0</td>\n",
       "      <td>0</td>\n",
       "      <td>0</td>\n",
       "      <td>0</td>\n",
       "      <td>0</td>\n",
       "      <td>0</td>\n",
       "      <td>0</td>\n",
       "      <td>0</td>\n",
       "      <td>0</td>\n",
       "    </tr>\n",
       "    <tr>\n",
       "      <th>2</th>\n",
       "      <td>4</td>\n",
       "      <td>0</td>\n",
       "      <td>0</td>\n",
       "      <td>0</td>\n",
       "      <td>0</td>\n",
       "      <td>0</td>\n",
       "      <td>0</td>\n",
       "      <td>0</td>\n",
       "      <td>0</td>\n",
       "      <td>0</td>\n",
       "      <td>...</td>\n",
       "      <td>0</td>\n",
       "      <td>0</td>\n",
       "      <td>0</td>\n",
       "      <td>0</td>\n",
       "      <td>0</td>\n",
       "      <td>0</td>\n",
       "      <td>0</td>\n",
       "      <td>0</td>\n",
       "      <td>0</td>\n",
       "      <td>0</td>\n",
       "    </tr>\n",
       "    <tr>\n",
       "      <th>3</th>\n",
       "      <td>1</td>\n",
       "      <td>0</td>\n",
       "      <td>0</td>\n",
       "      <td>0</td>\n",
       "      <td>0</td>\n",
       "      <td>0</td>\n",
       "      <td>0</td>\n",
       "      <td>0</td>\n",
       "      <td>0</td>\n",
       "      <td>0</td>\n",
       "      <td>...</td>\n",
       "      <td>0</td>\n",
       "      <td>0</td>\n",
       "      <td>0</td>\n",
       "      <td>0</td>\n",
       "      <td>0</td>\n",
       "      <td>0</td>\n",
       "      <td>0</td>\n",
       "      <td>0</td>\n",
       "      <td>0</td>\n",
       "      <td>0</td>\n",
       "    </tr>\n",
       "    <tr>\n",
       "      <th>4</th>\n",
       "      <td>9</td>\n",
       "      <td>0</td>\n",
       "      <td>0</td>\n",
       "      <td>0</td>\n",
       "      <td>0</td>\n",
       "      <td>0</td>\n",
       "      <td>0</td>\n",
       "      <td>0</td>\n",
       "      <td>0</td>\n",
       "      <td>0</td>\n",
       "      <td>...</td>\n",
       "      <td>0</td>\n",
       "      <td>0</td>\n",
       "      <td>0</td>\n",
       "      <td>0</td>\n",
       "      <td>0</td>\n",
       "      <td>0</td>\n",
       "      <td>0</td>\n",
       "      <td>0</td>\n",
       "      <td>0</td>\n",
       "      <td>0</td>\n",
       "    </tr>\n",
       "  </tbody>\n",
       "</table>\n",
       "<p>5 rows × 785 columns</p>\n",
       "</div>"
      ],
      "text/plain": [
       "   label  1x1  1x2  1x3  1x4  1x5  1x6  1x7  1x8  1x9  ...  28x19  28x20  \\\n",
       "0      5    0    0    0    0    0    0    0    0    0  ...      0      0   \n",
       "1      0    0    0    0    0    0    0    0    0    0  ...      0      0   \n",
       "2      4    0    0    0    0    0    0    0    0    0  ...      0      0   \n",
       "3      1    0    0    0    0    0    0    0    0    0  ...      0      0   \n",
       "4      9    0    0    0    0    0    0    0    0    0  ...      0      0   \n",
       "\n",
       "   28x21  28x22  28x23  28x24  28x25  28x26  28x27  28x28  \n",
       "0      0      0      0      0      0      0      0      0  \n",
       "1      0      0      0      0      0      0      0      0  \n",
       "2      0      0      0      0      0      0      0      0  \n",
       "3      0      0      0      0      0      0      0      0  \n",
       "4      0      0      0      0      0      0      0      0  \n",
       "\n",
       "[5 rows x 785 columns]"
      ]
     },
     "execution_count": 2,
     "metadata": {},
     "output_type": "execute_result"
    }
   ],
   "source": [
    "data = pd.read_csv('/kaggle/input/mnist-in-csv/mnist_train.csv')\n",
    "data.head()"
   ]
  },
  {
   "cell_type": "code",
   "execution_count": 3,
   "id": "leading-producer",
   "metadata": {
    "execution": {
     "iopub.execute_input": "2021-06-19T16:20:38.485245Z",
     "iopub.status.busy": "2021-06-19T16:20:38.484282Z",
     "iopub.status.idle": "2021-06-19T16:20:41.187397Z",
     "shell.execute_reply": "2021-06-19T16:20:41.187940Z",
     "shell.execute_reply.started": "2021-06-19T15:39:58.055140Z"
    },
    "papermill": {
     "duration": 2.720053,
     "end_time": "2021-06-19T16:20:41.188116",
     "exception": false,
     "start_time": "2021-06-19T16:20:38.468063",
     "status": "completed"
    },
    "tags": []
   },
   "outputs": [],
   "source": [
    "data = np.array(data)\n",
    "m, n = data.shape\n",
    "np.random.shuffle(data) # shuffle before splitting into dev and training sets\n",
    "\n",
    "data_dev = data[0:1000].T\n",
    "Y_dev = data_dev[0]\n",
    "X_dev = data_dev[1:n]\n",
    "X_dev = X_dev / 255."
   ]
  },
  {
   "cell_type": "code",
   "execution_count": 4,
   "id": "applied-undergraduate",
   "metadata": {
    "execution": {
     "iopub.execute_input": "2021-06-19T16:20:41.223196Z",
     "iopub.status.busy": "2021-06-19T16:20:41.222527Z",
     "iopub.status.idle": "2021-06-19T16:20:41.731266Z",
     "shell.execute_reply": "2021-06-19T16:20:41.731820Z",
     "shell.execute_reply.started": "2021-06-19T15:39:59.067202Z"
    },
    "papermill": {
     "duration": 0.529166,
     "end_time": "2021-06-19T16:20:41.731996",
     "exception": false,
     "start_time": "2021-06-19T16:20:41.202830",
     "status": "completed"
    },
    "tags": []
   },
   "outputs": [
    {
     "data": {
      "text/plain": [
       "(784,)"
      ]
     },
     "execution_count": 4,
     "metadata": {},
     "output_type": "execute_result"
    }
   ],
   "source": [
    "data_train = data[1000:m].T\n",
    "Y_train = data_train[0]\n",
    "X_train = data_train[1:n]\n",
    "X_train = X_train / 255.\n",
    "_,m_train = X_train.shape\n",
    "X_train[:, 0].shape"
   ]
  },
  {
   "cell_type": "code",
   "execution_count": 5,
   "id": "anonymous-diabetes",
   "metadata": {
    "execution": {
     "iopub.execute_input": "2021-06-19T16:20:41.765999Z",
     "iopub.status.busy": "2021-06-19T16:20:41.765285Z",
     "iopub.status.idle": "2021-06-19T16:20:41.767842Z",
     "shell.execute_reply": "2021-06-19T16:20:41.768326Z",
     "shell.execute_reply.started": "2021-06-19T15:39:59.262157Z"
    },
    "papermill": {
     "duration": 0.022486,
     "end_time": "2021-06-19T16:20:41.768514",
     "exception": false,
     "start_time": "2021-06-19T16:20:41.746028",
     "status": "completed"
    },
    "tags": []
   },
   "outputs": [
    {
     "data": {
      "text/plain": [
       "array([6, 9, 4, ..., 7, 4, 9])"
      ]
     },
     "execution_count": 5,
     "metadata": {},
     "output_type": "execute_result"
    }
   ],
   "source": [
    "Y_train"
   ]
  },
  {
   "cell_type": "code",
   "execution_count": 6,
   "id": "opposite-german",
   "metadata": {
    "execution": {
     "iopub.execute_input": "2021-06-19T16:20:41.800916Z",
     "iopub.status.busy": "2021-06-19T16:20:41.800264Z",
     "iopub.status.idle": "2021-06-19T16:20:41.805751Z",
     "shell.execute_reply": "2021-06-19T16:20:41.806266Z",
     "shell.execute_reply.started": "2021-06-19T15:46:28.403005Z"
    },
    "papermill": {
     "duration": 0.023155,
     "end_time": "2021-06-19T16:20:41.806491",
     "exception": false,
     "start_time": "2021-06-19T16:20:41.783336",
     "status": "completed"
    },
    "tags": []
   },
   "outputs": [],
   "source": [
    "def wts_bias():\n",
    "    W1 = np.random.rand(10, 784) - 0.5\n",
    "    b1 = np.random.rand(10, 1) - 0.5\n",
    "    W2 = np.random.rand(10, 10) - 0.5\n",
    "    b2 = np.random.rand(10, 1) - 0.5\n",
    "    W3 = np.random.rand(10, 10) - 0.5\n",
    "    b3 = np.random.rand(10, 1) - 0.5\n",
    "    return W1, b1, W2, b2, W3, b3"
   ]
  },
  {
   "cell_type": "code",
   "execution_count": 7,
   "id": "partial-europe",
   "metadata": {
    "execution": {
     "iopub.execute_input": "2021-06-19T16:20:41.838313Z",
     "iopub.status.busy": "2021-06-19T16:20:41.837678Z",
     "iopub.status.idle": "2021-06-19T16:20:41.845468Z",
     "shell.execute_reply": "2021-06-19T16:20:41.844770Z",
     "shell.execute_reply.started": "2021-06-19T15:43:12.998374Z"
    },
    "papermill": {
     "duration": 0.024943,
     "end_time": "2021-06-19T16:20:41.845647",
     "exception": false,
     "start_time": "2021-06-19T16:20:41.820704",
     "status": "completed"
    },
    "tags": []
   },
   "outputs": [],
   "source": [
    "def ReLU(Z):\n",
    "    return np.maximum(Z, 0)\n",
    "\n",
    "def softmax(Z):\n",
    "    A = np.exp(Z) / sum(np.exp(Z))\n",
    "    return A\n",
    "    \n",
    "def forward_prop(W1, b1, W2, b2, W3, b3, X):\n",
    "    Z1 = W1.dot(X) + b1\n",
    "    A1 = ReLU(Z1)\n",
    "    Z2 = W2.dot(A1) + b2\n",
    "    A2 = ReLU(Z2)\n",
    "    Z3 = W3.dot(A2) + b3\n",
    "    A3 = softmax(Z3)\n",
    "    return Z1, A1, Z2, A2, Z3, A3"
   ]
  },
  {
   "cell_type": "code",
   "execution_count": 8,
   "id": "numerical-linux",
   "metadata": {
    "execution": {
     "iopub.execute_input": "2021-06-19T16:20:41.880117Z",
     "iopub.status.busy": "2021-06-19T16:20:41.879476Z",
     "iopub.status.idle": "2021-06-19T16:20:41.881795Z",
     "shell.execute_reply": "2021-06-19T16:20:41.882248Z",
     "shell.execute_reply.started": "2021-06-19T15:39:59.300454Z"
    },
    "papermill": {
     "duration": 0.022386,
     "end_time": "2021-06-19T16:20:41.882458",
     "exception": false,
     "start_time": "2021-06-19T16:20:41.860072",
     "status": "completed"
    },
    "tags": []
   },
   "outputs": [],
   "source": [
    "def ReLU_deriv(Z):\n",
    "    return Z > 0\n",
    "\n",
    "def one_mat(Y):\n",
    "    one_mat_Y = np.zeros((Y.size, Y.max() + 1))\n",
    "    one_mat_Y[np.arange(Y.size), Y] = 1\n",
    "    one_mat_Y = one_mat_Y.T\n",
    "    return one_mat_Y"
   ]
  },
  {
   "cell_type": "code",
   "execution_count": 9,
   "id": "quality-active",
   "metadata": {
    "execution": {
     "iopub.execute_input": "2021-06-19T16:20:41.920458Z",
     "iopub.status.busy": "2021-06-19T16:20:41.919376Z",
     "iopub.status.idle": "2021-06-19T16:20:41.924978Z",
     "shell.execute_reply": "2021-06-19T16:20:41.924291Z",
     "shell.execute_reply.started": "2021-06-19T15:47:43.159505Z"
    },
    "papermill": {
     "duration": 0.028404,
     "end_time": "2021-06-19T16:20:41.925121",
     "exception": false,
     "start_time": "2021-06-19T16:20:41.896717",
     "status": "completed"
    },
    "tags": []
   },
   "outputs": [],
   "source": [
    "def backward_prop(Z1, A1, Z2, A2, Z3, A3, W1, W2, W3, X, Y):\n",
    "    one_mat_Y = one_mat(Y)\n",
    "    dZ3 = A3 - one_mat_Y\n",
    "    dW3 = 1 / m * dZ3.dot(A2.T)\n",
    "    db3 = 1 / m * np.sum(dZ3)\n",
    "    dZ2 = W3.T.dot(dZ3) * ReLU_deriv(Z2)\n",
    "    dW2 = 1 / m * dZ2.dot(A1.T)\n",
    "    db2 = 1 / m * np.sum(dZ2)\n",
    "    dZ1 = W2.T.dot(dZ2) * ReLU_deriv(Z1)\n",
    "    dW1 = 1 / m * dZ1.dot(X.T)\n",
    "    db1 = 1 / m * np.sum(dZ1)\n",
    "    return dW1, db1, dW2, db2, dW3, db3\n",
    "\n",
    "def update_params(W1, b1, W2, b2, W3, b3, dW1, db1, dW2, db2, dW3, db3, alpha):\n",
    "    W1 = W1 - alpha * dW1\n",
    "    b1 = b1 - alpha * db1    \n",
    "    W2 = W2 - alpha * dW2  \n",
    "    b2 = b2 - alpha * db2\n",
    "    W3 = W3 - alpha * dW3  \n",
    "    b3 = b3 - alpha * db3  \n",
    "    return W1, b1, W2, b2, W3, b3"
   ]
  },
  {
   "cell_type": "code",
   "execution_count": 10,
   "id": "subject-communications",
   "metadata": {
    "execution": {
     "iopub.execute_input": "2021-06-19T16:20:41.963541Z",
     "iopub.status.busy": "2021-06-19T16:20:41.962821Z",
     "iopub.status.idle": "2021-06-19T16:20:41.965955Z",
     "shell.execute_reply": "2021-06-19T16:20:41.965475Z",
     "shell.execute_reply.started": "2021-06-19T15:40:21.720151Z"
    },
    "papermill": {
     "duration": 0.02651,
     "end_time": "2021-06-19T16:20:41.966094",
     "exception": false,
     "start_time": "2021-06-19T16:20:41.939584",
     "status": "completed"
    },
    "tags": []
   },
   "outputs": [],
   "source": [
    "def get_predictions(A3):\n",
    "    return np.argmax(A3, 0)\n",
    "\n",
    "def get_accuracy(predictions, Y):\n",
    "    print(predictions, Y)\n",
    "    return np.sum(predictions == Y) / Y.size\n",
    "\n",
    "def gradient_descent(X, Y, alpha, iterations):\n",
    "    W1, b1, W2, b2, W3, b3 = wts_bias()\n",
    "    for i in range(iterations):\n",
    "        Z1, A1, Z2, A2, Z3, A3 = forward_prop(W1, b1, W2, b2, W3, b3, X)\n",
    "        dW1, db1, dW2, db2, dW3, db3 = backward_prop(Z1, A1, Z2, A2, Z3, A3, W1, W2, W3, X, Y)\n",
    "        W1, b1, W2, b2, W3, b3 = update_params(W1, b1, W2, b2, W3, b3, dW1, db1, dW2, db2, dW3, db3, alpha)\n",
    "        if i % 10 == 0:\n",
    "            print(\"Iteration: \", i)\n",
    "            predictions = get_predictions(A3)\n",
    "            print(get_accuracy(predictions, Y))\n",
    "    return W1, b1, W2, b2, W3, b3\n"
   ]
  },
  {
   "cell_type": "code",
   "execution_count": 11,
   "id": "graphic-tooth",
   "metadata": {
    "execution": {
     "iopub.execute_input": "2021-06-19T16:20:42.000621Z",
     "iopub.status.busy": "2021-06-19T16:20:41.999578Z",
     "iopub.status.idle": "2021-06-19T16:22:38.430969Z",
     "shell.execute_reply": "2021-06-19T16:22:38.431804Z",
     "shell.execute_reply.started": "2021-06-19T15:47:48.403185Z"
    },
    "papermill": {
     "duration": 116.451918,
     "end_time": "2021-06-19T16:22:38.432121",
     "exception": false,
     "start_time": "2021-06-19T16:20:41.980203",
     "status": "completed"
    },
    "tags": []
   },
   "outputs": [
    {
     "name": "stdout",
     "output_type": "stream",
     "text": [
      "Iteration:  0\n",
      "[9 4 9 ... 9 9 7] [6 9 4 ... 7 4 9]\n",
      "0.09166101694915255\n",
      "Iteration:  10\n",
      "[9 4 9 ... 9 4 7] [6 9 4 ... 7 4 9]\n",
      "0.12733898305084745\n",
      "Iteration:  20\n",
      "[6 4 9 ... 9 4 7] [6 9 4 ... 7 4 9]\n",
      "0.14535593220338983\n",
      "Iteration:  30\n",
      "[6 4 9 ... 4 4 7] [6 9 4 ... 7 4 9]\n",
      "0.16601694915254236\n",
      "Iteration:  40\n",
      "[6 4 9 ... 4 6 7] [6 9 4 ... 7 4 9]\n",
      "0.21166101694915254\n",
      "Iteration:  50\n",
      "[6 4 9 ... 4 6 7] [6 9 4 ... 7 4 9]\n",
      "0.2785593220338983\n",
      "Iteration:  60\n",
      "[6 4 9 ... 7 6 7] [6 9 4 ... 7 4 9]\n",
      "0.35084745762711866\n",
      "Iteration:  70\n",
      "[6 4 1 ... 1 6 7] [6 9 4 ... 7 4 9]\n",
      "0.36738983050847457\n",
      "Iteration:  80\n",
      "[6 4 1 ... 1 6 7] [6 9 4 ... 7 4 9]\n",
      "0.3815932203389831\n",
      "Iteration:  90\n",
      "[6 4 1 ... 1 6 7] [6 9 4 ... 7 4 9]\n",
      "0.3956949152542373\n",
      "Iteration:  100\n",
      "[6 4 1 ... 8 6 7] [6 9 4 ... 7 4 9]\n",
      "0.4149322033898305\n",
      "Iteration:  110\n",
      "[6 9 1 ... 8 6 7] [6 9 4 ... 7 4 9]\n",
      "0.4387627118644068\n",
      "Iteration:  120\n",
      "[6 9 1 ... 3 6 7] [6 9 4 ... 7 4 9]\n",
      "0.46588135593220337\n",
      "Iteration:  130\n",
      "[6 9 1 ... 3 6 7] [6 9 4 ... 7 4 9]\n",
      "0.4916271186440678\n",
      "Iteration:  140\n",
      "[6 9 1 ... 3 5 7] [6 9 4 ... 7 4 9]\n",
      "0.5134745762711864\n",
      "Iteration:  150\n",
      "[6 9 1 ... 8 5 7] [6 9 4 ... 7 4 9]\n",
      "0.5326271186440678\n",
      "Iteration:  160\n",
      "[6 9 1 ... 8 5 7] [6 9 4 ... 7 4 9]\n",
      "0.551322033898305\n",
      "Iteration:  170\n",
      "[6 9 9 ... 8 5 7] [6 9 4 ... 7 4 9]\n",
      "0.5667457627118644\n",
      "Iteration:  180\n",
      "[6 9 8 ... 8 5 7] [6 9 4 ... 7 4 9]\n",
      "0.5818983050847457\n",
      "Iteration:  190\n",
      "[6 9 8 ... 8 5 9] [6 9 4 ... 7 4 9]\n",
      "0.5965254237288136\n",
      "Iteration:  200\n",
      "[6 9 8 ... 8 5 9] [6 9 4 ... 7 4 9]\n",
      "0.6099152542372881\n",
      "Iteration:  210\n",
      "[6 9 8 ... 8 5 9] [6 9 4 ... 7 4 9]\n",
      "0.6234915254237288\n",
      "Iteration:  220\n",
      "[6 9 8 ... 8 5 9] [6 9 4 ... 7 4 9]\n",
      "0.6361186440677966\n",
      "Iteration:  230\n",
      "[6 9 9 ... 8 4 9] [6 9 4 ... 7 4 9]\n",
      "0.648135593220339\n",
      "Iteration:  240\n",
      "[6 9 9 ... 8 4 9] [6 9 4 ... 7 4 9]\n",
      "0.6598644067796611\n",
      "Iteration:  250\n",
      "[6 9 9 ... 2 4 9] [6 9 4 ... 7 4 9]\n",
      "0.6705084745762712\n",
      "Iteration:  260\n",
      "[6 9 9 ... 3 4 9] [6 9 4 ... 7 4 9]\n",
      "0.6327796610169492\n",
      "Iteration:  270\n",
      "[6 9 9 ... 3 4 9] [6 9 4 ... 7 4 9]\n",
      "0.675\n",
      "Iteration:  280\n",
      "[6 9 9 ... 2 4 9] [6 9 4 ... 7 4 9]\n",
      "0.6885084745762712\n",
      "Iteration:  290\n",
      "[6 9 9 ... 2 4 9] [6 9 4 ... 7 4 9]\n",
      "0.6950169491525424\n",
      "Iteration:  300\n",
      "[6 9 9 ... 2 4 9] [6 9 4 ... 7 4 9]\n",
      "0.7033559322033899\n",
      "Iteration:  310\n",
      "[6 9 9 ... 2 4 9] [6 9 4 ... 7 4 9]\n",
      "0.7133898305084746\n",
      "Iteration:  320\n",
      "[6 9 9 ... 2 4 9] [6 9 4 ... 7 4 9]\n",
      "0.7206949152542372\n",
      "Iteration:  330\n",
      "[6 9 9 ... 2 4 9] [6 9 4 ... 7 4 9]\n",
      "0.7255084745762712\n",
      "Iteration:  340\n",
      "[6 9 9 ... 2 4 9] [6 9 4 ... 7 4 9]\n",
      "0.7260847457627119\n",
      "Iteration:  350\n",
      "[6 9 9 ... 2 4 9] [6 9 4 ... 7 4 9]\n",
      "0.7328305084745763\n",
      "Iteration:  360\n",
      "[6 9 9 ... 2 4 9] [6 9 4 ... 7 4 9]\n",
      "0.7423728813559322\n",
      "Iteration:  370\n",
      "[6 9 9 ... 2 4 9] [6 9 4 ... 7 4 9]\n",
      "0.7488474576271187\n",
      "Iteration:  380\n",
      "[6 9 9 ... 2 4 9] [6 9 4 ... 7 4 9]\n",
      "0.7537627118644068\n",
      "Iteration:  390\n",
      "[6 9 9 ... 2 4 9] [6 9 4 ... 7 4 9]\n",
      "0.7584576271186441\n",
      "Iteration:  400\n",
      "[6 9 9 ... 2 4 9] [6 9 4 ... 7 4 9]\n",
      "0.7630508474576271\n",
      "Iteration:  410\n",
      "[6 9 9 ... 2 4 9] [6 9 4 ... 7 4 9]\n",
      "0.7665762711864407\n",
      "Iteration:  420\n",
      "[6 9 9 ... 2 4 9] [6 9 4 ... 7 4 9]\n",
      "0.7703898305084745\n",
      "Iteration:  430\n",
      "[6 9 9 ... 2 4 9] [6 9 4 ... 7 4 9]\n",
      "0.7743728813559322\n",
      "Iteration:  440\n",
      "[6 9 9 ... 2 4 9] [6 9 4 ... 7 4 9]\n",
      "0.7774745762711864\n",
      "Iteration:  450\n",
      "[6 9 9 ... 2 4 9] [6 9 4 ... 7 4 9]\n",
      "0.7804576271186441\n",
      "Iteration:  460\n",
      "[6 9 9 ... 2 4 9] [6 9 4 ... 7 4 9]\n",
      "0.783135593220339\n",
      "Iteration:  470\n",
      "[6 9 9 ... 2 4 9] [6 9 4 ... 7 4 9]\n",
      "0.7858813559322034\n",
      "Iteration:  480\n",
      "[6 9 9 ... 2 4 9] [6 9 4 ... 7 4 9]\n",
      "0.7878983050847458\n",
      "Iteration:  490\n",
      "[6 9 9 ... 2 4 9] [6 9 4 ... 7 4 9]\n",
      "0.7900508474576271\n"
     ]
    }
   ],
   "source": [
    "W1, b1, W2, b2, W3, b3 = gradient_descent(X_train, Y_train, 0.10, 500)"
   ]
  },
  {
   "cell_type": "code",
   "execution_count": 12,
   "id": "shaped-dover",
   "metadata": {
    "execution": {
     "iopub.execute_input": "2021-06-19T16:22:38.547710Z",
     "iopub.status.busy": "2021-06-19T16:22:38.546988Z",
     "iopub.status.idle": "2021-06-19T16:22:38.549985Z",
     "shell.execute_reply": "2021-06-19T16:22:38.550463Z",
     "shell.execute_reply.started": "2021-06-19T16:18:16.777263Z"
    },
    "papermill": {
     "duration": 0.065906,
     "end_time": "2021-06-19T16:22:38.550646",
     "exception": false,
     "start_time": "2021-06-19T16:22:38.484740",
     "status": "completed"
    },
    "tags": []
   },
   "outputs": [],
   "source": [
    "def make_predictions(X, W1, b1, W2, b2, W3, b3):\n",
    "    _, _, _, _, _, A3 = forward_prop(W1, b1, W2, b2, W3, b3, X)\n",
    "    predictions = get_predictions(A3)\n",
    "    return predictions\n",
    "\n",
    "def test_prediction(index, W1, b1, W2, b2, W3, b3):\n",
    "    current_image = X_train[:, index, None]\n",
    "    prediction = make_predictions(X_train[:, index, None], W1, b1, W2, b2, W3, b3)\n",
    "    label = Y_train[index]\n",
    "    print(\"Prediction: \", prediction)\n",
    "    print(\"Label: \", label)\n",
    "    \n",
    "    current_image = current_image.reshape((28, 28)) * 255\n",
    "    plt.gray()\n",
    "    plt.imshow(current_image, interpolation='nearest')\n",
    "    plt.show()"
   ]
  },
  {
   "cell_type": "code",
   "execution_count": 13,
   "id": "intermediate-hydrogen",
   "metadata": {
    "execution": {
     "iopub.execute_input": "2021-06-19T16:22:38.617207Z",
     "iopub.status.busy": "2021-06-19T16:22:38.616177Z",
     "iopub.status.idle": "2021-06-19T16:22:39.313585Z",
     "shell.execute_reply": "2021-06-19T16:22:39.313005Z",
     "shell.execute_reply.started": "2021-06-19T16:19:01.573422Z"
    },
    "papermill": {
     "duration": 0.732448,
     "end_time": "2021-06-19T16:22:39.313729",
     "exception": false,
     "start_time": "2021-06-19T16:22:38.581281",
     "status": "completed"
    },
    "tags": []
   },
   "outputs": [
    {
     "name": "stdout",
     "output_type": "stream",
     "text": [
      "Prediction:  [6]\n",
      "Label:  6\n"
     ]
    },
    {
     "data": {
      "image/png": "[encoded data removed]",
      "text/plain": [
       "<Figure size 432x288 with 1 Axes>"
      ]
     },
     "metadata": {
      "needs_background": "light"
     },
     "output_type": "display_data"
    },
    {
     "name": "stdout",
     "output_type": "stream",
     "text": [
      "Prediction:  [9]\n",
      "Label:  9\n"
     ]
    },
    {
     "data": {
      "image/png": "[encoded data removed]",
      "text/plain": [
       "<Figure size 432x288 with 1 Axes>"
      ]
     },
     "metadata": {
      "needs_background": "light"
     },
     "output_type": "display_data"
    },
    {
     "name": "stdout",
     "output_type": "stream",
     "text": [
      "Prediction:  [9]\n",
      "Label:  4\n"
     ]
    },
    {
     "data": {
      "image/png": "[encoded data removed]",
      "text/plain": [
       "<Figure size 432x288 with 1 Axes>"
      ]
     },
     "metadata": {
      "needs_background": "light"
     },
     "output_type": "display_data"
    },
    {
     "name": "stdout",
     "output_type": "stream",
     "text": [
      "Prediction:  [9]\n",
      "Label:  7\n"
     ]
    },
    {
     "data": {
      "image/png": "[encoded data removed]",
      "text/plain": [
       "<Figure size 432x288 with 1 Axes>"
      ]
     },
     "metadata": {
      "needs_background": "light"
     },
     "output_type": "display_data"
    },
    {
     "name": "stdout",
     "output_type": "stream",
     "text": [
      "Prediction:  [7]\n",
      "Label:  7\n"
     ]
    },
    {
     "data": {
      "image/png": "[encoded data removed]",
      "text/plain": [
       "<Figure size 432x288 with 1 Axes>"
      ]
     },
     "metadata": {
      "needs_background": "light"
     },
     "output_type": "display_data"
    }
   ],
   "source": [
    "test_prediction(0, W1, b1, W2, b2, W3, b3)\n",
    "test_prediction(1, W1, b1, W2, b2, W3, b3)\n",
    "test_prediction(2, W1, b1, W2, b2, W3, b3)\n",
    "test_prediction(3, W1, b1, W2, b2, W3, b3)\n",
    "test_prediction(4, W1, b1, W2, b2, W3, b3)"
   ]
  },
  {
   "cell_type": "code",
   "execution_count": null,
   "id": "sufficient-imagination",
   "metadata": {
    "papermill": {
     "duration": 0.034379,
     "end_time": "2021-06-19T16:22:39.382004",
     "exception": false,
     "start_time": "2021-06-19T16:22:39.347625",
     "status": "completed"
    },
    "tags": []
   },
   "outputs": [],
   "source": []
  },
  {
   "cell_type": "code",
   "execution_count": null,
   "id": "micro-anthropology",
   "metadata": {
    "papermill": {
     "duration": 0.033594,
     "end_time": "2021-06-19T16:22:39.449427",
     "exception": false,
     "start_time": "2021-06-19T16:22:39.415833",
     "status": "completed"
    },
    "tags": []
   },
   "outputs": [],
   "source": []
  }
 ],
 "metadata": {
  "kernelspec": {
   "display_name": "Python 3",
   "language": "python",
   "name": "python3"
  },
  "language_info": {
   "codemirror_mode": {
    "name": "ipython",
    "version": 3
   },
   "file_extension": ".py",
   "mimetype": "text/x-python",
   "name": "python",
   "nbconvert_exporter": "python",
   "pygments_lexer": "ipython3",
   "version": "3.7.10"
  },
  "papermill": {
   "default_parameters": {},
   "duration": 137.988031,
   "end_time": "2021-06-19T16:22:41.048516",
   "environment_variables": {},
   "exception": null,
   "input_path": "__notebook__.ipynb",
   "output_path": "__notebook__.ipynb",
   "parameters": {},
   "start_time": "2021-06-19T16:20:23.060485",
   "version": "2.3.3"
  }
 },
 "nbformat": 4,
 "nbformat_minor": 5
}
